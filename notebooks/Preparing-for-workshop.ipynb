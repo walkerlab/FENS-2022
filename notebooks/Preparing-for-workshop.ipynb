{
 "cells": [
  {
   "cell_type": "markdown",
   "metadata": {},
   "source": [
    "<table class=\"ee-notebook-buttons\" align=\"left\"><td>\n",
    "<a target=\"_blank\"  href=\"https://colab.research.google.com/github/walkerlab/FENS-2022/blob/main/notebooks/Preparing-for-workshop.ipynb\">\n",
    "    <img src=\"https://www.tensorflow.org/images/colab_logo_32px.png\" /> Run in Google Colab</a>\n",
    "</td></table>"
   ]
  },
  {
   "cell_type": "markdown",
   "metadata": {
    "id": "xp0SO4gr2D7w"
   },
   "source": [
    "# Getting ready for the FENS Summer School?"
   ]
  },
  {
   "cell_type": "markdown",
   "metadata": {},
   "source": [
    "Are you feeling excited for the upcoming [FENS Summer School on 'Artificial and natural computations for sensory perception: what is the link?'](https://www.fens.org/news-activities/fens-and-societies-calendar/training-event/fens-summer-school-on-artificial-and-natural-computations-for-sensory-perception-what-is-the-link)? We are too!\n",
    "\n",
    "This notebook will help ensure that you have your coding environment setup so that things will run as smoothly as possible, especially for the hands-on workshop and the subsequent group projects."
   ]
  },
  {
   "cell_type": "markdown",
   "metadata": {},
   "source": [
    "Please try running this notebook from the start to finish in the Google Colab environment. If at any point you run into issues, please ask your peers and the instructor (Edgar Y. Walker, PhD) for help on the FENS 2022 Discord Server **BEFORE** the first day of the course on Monday, May 23, 2022. If you cannot resolve the issue prior to the workshop on Monday, please be sure to get in touch with the instructor and arrange for a preparatory session on Sunday, May 22, 2022."
   ]
  },
  {
   "cell_type": "markdown",
   "metadata": {},
   "source": [
    "# Running cells in Jupyter Notebook / Google Colab"
   ]
  },
  {
   "cell_type": "markdown",
   "metadata": {},
   "source": [
    "If you are seeing this notebook inside [Google Colab](https://colab.research.google.com/) environment, you are already more than 50% prepared for the workshop!\n",
    "\n",
    "Briefly, Google Colab is a [Jupyter notebook](https://jupyter.org)-like environment provided by Google, and it offers a handy environment to interactively write and execute Python code. As a big bonus, it even provides you with a free access to GPUs to get your neural network training fast!\n",
    "\n",
    "If you are already familiar with Python and Jupyter environment, you will find yourself right at home in Colab. If this is the first time interacting with Python and/or Jupyter environment, I strongly recommend that you spend sometime ahead of the workshop to familiarize yourself in this environment!\n",
    "\n",
    "Notebook cells are divided into text block cells like this one (called text or markdown cells) and code cells you find right below this block. Go ahead, run the following cell by either hitting the \"Play\" icon on the left side of the cell (if in Colab) or the \"Play\" button at the top menubar (if in Jupyter notebook/lab environment). You might be happy to know that you can use keyboard shortcut like \"Ctrl + Enter\" (Windows) or \"Cmd + Enter\" (Mac) to quickly run the currently selected cell. Even better, use \"Shift + Enter\" (Windows/Mac) to run **and** advance to the next cell!"
   ]
  },
  {
   "cell_type": "code",
   "execution_count": null,
   "metadata": {},
   "outputs": [],
   "source": [
    "print(\"Welcome to FENS 2022!!\")"
   ]
  },
  {
   "cell_type": "markdown",
   "metadata": {},
   "source": [
    "Explore around to learn how to add/move/delete new text/code cells. The landing page of [Google Colab](https://research.google.com/colaboratory/) offers a great resource to get you up and running quickly."
   ]
  },
  {
   "cell_type": "markdown",
   "metadata": {},
   "source": [
    "Let's now go through the rest of the notebook to make sure things will run smoothly for you!"
   ]
  },
  {
   "cell_type": "markdown",
   "metadata": {},
   "source": [
    "# Importing libraries"
   ]
  },
  {
   "cell_type": "markdown",
   "metadata": {},
   "source": [
    "Throughout the workshop and for your group projects, you'll be using numerous Python packages. In particular, we'll be making heavy use of standard scientific computing libraries such as [NumPy](https://numpy.org), [SciPy](https://scipy.org), and [Matplotlib](https://matplotlib.org). Furthermore, we will be making extensive use of [PyTorch](https://pytorch.org) for developing, training and evaluating our deep neural networks!\n",
    "\n",
    "Good news is that all of these libraries come pre-installed in Google Colab. Nevertheless, let's make sure you have no problem importing these libraries."
   ]
  },
  {
   "cell_type": "code",
   "execution_count": null,
   "metadata": {},
   "outputs": [],
   "source": [
    "# import standard scientific computing libraries\n",
    "import numpy as np # NumPy for array based computations\n",
    "import matplotlib.pyplot as plt # Matplotlib for plotting\n",
    "import scipy # SciPy for miscellaneous scientific functions\n",
    "\n",
    "# import PyTorch library\n",
    "import torch"
   ]
  },
  {
   "cell_type": "markdown",
   "metadata": {},
   "source": [
    "Let's now ensure that we can create simple plots within the environment:"
   ]
  },
  {
   "cell_type": "code",
   "execution_count": null,
   "metadata": {},
   "outputs": [],
   "source": [
    "theta = np.linspace(0, 2 * np.pi, 100)\n",
    "y = np.cos(theta)\n",
    "\n",
    "plt.plot(theta, y, 'r-', label='my wave')\n",
    "plt.legend()\n",
    "plt.xlabel(r'Angle $\\theta$ in radians')\n",
    "plt.ylabel(r'Value')"
   ]
  },
  {
   "cell_type": "markdown",
   "metadata": {},
   "source": [
    "## Downloading dataset"
   ]
  },
  {
   "cell_type": "markdown",
   "metadata": {},
   "source": [
    "We are now going to test downloading the real neuronal dataset! In the workshop, we are going to use the dataset made available in [Lurz et al. ICLR 2021](https://github.com/sinzlab/Lurz_2020_code), predicting responses of mouse visual cortex to natural images. We will go into much more details about the dataset during the workshop, but feel free to start exploring the dataset!"
   ]
  },
  {
   "cell_type": "code",
   "execution_count": null,
   "metadata": {},
   "outputs": [],
   "source": [
    "# download the dataset\n",
    "!wget \"https://onedrive.live.com/download?cid=06D44059794C5B46&resid=6D44059794C5B46%21121992&authkey=AHJVfxtvAASasjQ\" -O dataset.zip"
   ]
  },
  {
   "cell_type": "markdown",
   "metadata": {},
   "source": [
    "We will now unzip the dataset. It will expand to give you a new folder called `Lurz2020`"
   ]
  },
  {
   "cell_type": "code",
   "execution_count": null,
   "metadata": {},
   "outputs": [],
   "source": [
    "# Unzip\n",
    "!unzip -nq 'dataset.zip'"
   ]
  },
  {
   "cell_type": "markdown",
   "metadata": {},
   "source": [
    "Once unzip completes, let's take a quick look at the content of the dataset."
   ]
  },
  {
   "cell_type": "code",
   "execution_count": null,
   "metadata": {},
   "outputs": [],
   "source": [
    "ls Lurz2020"
   ]
  },
  {
   "cell_type": "markdown",
   "metadata": {},
   "source": [
    "The folder `static20457-5-9-preproc0` is a collection of files containing mouse V1 responses to natural images. Let's take a look at a single natural image and the corresponding neural responses for a single trial!"
   ]
  },
  {
   "cell_type": "code",
   "execution_count": null,
   "metadata": {},
   "outputs": [],
   "source": [
    "trial_idx = 1100 # specific trial image\n",
    "trial_image = np.load(f'./Lurz2020/static20457-5-9-preproc0/data/images/{trial_idx}.npy')\n",
    "trial_responses = np.load(f'./Lurz2020/static20457-5-9-preproc0/data/responses/{trial_idx}.npy')"
   ]
  },
  {
   "cell_type": "code",
   "execution_count": null,
   "metadata": {},
   "outputs": [],
   "source": [
    "plt.imshow(trial_image.squeeze(), cmap='gray', vmin=0, vmax=255)\n",
    "plt.axis('off')"
   ]
  },
  {
   "cell_type": "markdown",
   "metadata": {},
   "source": [
    "The dataset consists of responses of 5335 V1 neurons to the natural image!"
   ]
  },
  {
   "cell_type": "code",
   "execution_count": null,
   "metadata": {},
   "outputs": [],
   "source": [
    "trial_responses.shape"
   ]
  },
  {
   "cell_type": "code",
   "execution_count": null,
   "metadata": {},
   "outputs": [],
   "source": [
    "fig, ax = plt.subplots(1, 1, dpi=150)\n",
    "ax.hist(trial_responses, 100);\n",
    "ax.set_title('Neural activity over all neurons responding to an image')\n",
    "ax.set_xlabel('Neuron activity')\n",
    "ax.set_ylabel('Neuron counts')"
   ]
  },
  {
   "cell_type": "markdown",
   "metadata": {},
   "source": [
    "Feel free to explore around the dataset ahead of the workshop! We will delve more into the dataset together at the workshop."
   ]
  },
  {
   "cell_type": "markdown",
   "metadata": {},
   "source": [
    "## Summary and further preparation"
   ]
  },
  {
   "cell_type": "markdown",
   "metadata": {},
   "source": [
    "Congratulations! If you made this far into the notebook without a hitch, you are ready for the hands-on workshop! In the workshop, we will discuss what it means to develop a model of neural responses, particularly using deep neural networks. Generally, we will assume you have a working Colab setup and that you have some working knowledge/familiarity with Python and PyTorch.\n",
    "\n",
    "If you want to brush up on your knowledge on Python, we strongly recommend reviewing the material at [SciPy Lecture Notes](https://scipy-lectures.org/), particularly focusing on the Chapter 1 material, which would provide sufficient coverage for the Python language, as well as relevant scientific computing libraries in Python. For a review of PyTorch, we recommend PyTorch's excellent [collection of tutorials](https://pytorch.org/tutorials/). Specifically, the [basic tutorial series](https://pytorch.org/tutorials/beginner/basics/intro.html) is a perfect place to start learning or to quickly refresh knowledge on PyTorch.\n",
    "\n",
    "At any point before, during, and after the workshop, you should absolutely feel free to contact the instructor (Edgar Y. Walker, PhD) with any questions/comments.\n",
    "\n",
    "We look forward to seeing you at the FENS Summer School 2022!!"
   ]
  }
 ],
 "metadata": {
  "accelerator": "GPU",
  "colab": {
   "collapsed_sections": [],
   "provenance": []
  },
  "interpreter": {
   "hash": "aee8b7b246df8f9039afb4144a1f6fd8d2ca17a180786b69acc140d282b71a49"
  },
  "kernelspec": {
   "display_name": "Python 3 (ipykernel)",
   "language": "python",
   "name": "python3"
  },
  "language_info": {
   "codemirror_mode": {
    "name": "ipython",
    "version": 3
   },
   "file_extension": ".py",
   "mimetype": "text/x-python",
   "name": "python",
   "nbconvert_exporter": "python",
   "pygments_lexer": "ipython3",
   "version": "3.8.10"
  }
 },
 "nbformat": 4,
 "nbformat_minor": 4
}
